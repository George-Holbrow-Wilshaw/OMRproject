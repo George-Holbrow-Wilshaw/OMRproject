{
 "cells": [
  {
   "cell_type": "markdown",
   "metadata": {},
   "source": [
    "# Optical Music Recognition - PyTorch implementation"
   ]
  },
  {
   "cell_type": "markdown",
   "metadata": {},
   "source": [
    "In this notebook I train a convolution neural network to be able to correctly identify the pitch of music notes. Currently, the network can only label single notes - but I am aiming to extend it to be able to correctly identify and label notes on an entire page of music.\n",
    "\n",
    "The dataset I am using was created by Pascal Attwenger, and is available at https://homepage.univie.ac.at/pascal.attwenger/bachelor/."
   ]
  },
  {
   "cell_type": "markdown",
   "metadata": {},
   "source": [
    "## 1. Training a single note classifier"
   ]
  },
  {
   "cell_type": "code",
   "execution_count": 1002,
   "metadata": {},
   "outputs": [],
   "source": [
    "# Import dependencies\n",
    "\n",
    "import pandas as pd\n",
    "import cv2\n",
    "import numpy as np\n",
    "import os\n",
    "from tqdm.notebook import tqdm\n",
    "import torch.nn as nn\n",
    "import torch.nn.functional as F\n",
    "import torch.optim as optim\n",
    "import efficientnet_pytorch\n",
    "from pathlib import Path\n",
    "from sklearn.utils import shuffle\n",
    "from matplotlib import pyplot as plt\n",
    "from sklearn.model_selection import train_test_split\n",
    "from random import randrange\n",
    "\n",
    "\n",
    "from efficientnet_pytorch import EfficientNet"
   ]
  },
  {
   "cell_type": "markdown",
   "metadata": {},
   "source": [
    "### 1.1 Constructing the data loader and initialising data generators"
   ]
  },
  {
   "cell_type": "code",
   "execution_count": 1009,
   "metadata": {},
   "outputs": [],
   "source": [
    "class DataSet(torch.utils.data.Dataset):\n",
    "    \n",
    "    def __init__(self, fns, root):\n",
    "        self.file_list = fns  \n",
    "    \n",
    "    def __len__(self):\n",
    "        return len(self.file_list)    \n",
    "        \n",
    "    def __getitem__(self, idx):\n",
    "        \n",
    "        file_name = self.file_list[idx]\n",
    "        \n",
    "        fp = os.path.join(ROOT, file_name)\n",
    "        img = cv2.imread(fp, cv2.IMREAD_GRAYSCALE)\n",
    "        img = img / 255.\n",
    "        \n",
    "        attr = file_name.split('-')\n",
    "        type_ = attr[0]\n",
    "        time = attr[1]\n",
    "        pitch = attr[2]\n",
    "        \n",
    "        return np.expand_dims(img, axis=0).astype('double'), self.map_pitch(pitch)\n",
    "    \n",
    "    def map_pitch(self, pitch):\n",
    "\n",
    "        m = {\n",
    "            \"a\": 0,\n",
    "             \"h\": 1,\n",
    "             \"c1\": 2,\n",
    "             \"d1\": 3,\n",
    "             \"e1\": 4,\n",
    "             \"f1\": 5,\n",
    "             \"g1\": 6,\n",
    "             \"a1\": 0,\n",
    "             \"h1\": 1,\n",
    "             \"c2\": 2,\n",
    "             \"d2\": 3,\n",
    "             \"e2\": 4,\n",
    "             \"f2\": 5,\n",
    "             \"g2\": 6,\n",
    "             \"a2\": 0,\n",
    "             \"h2\": 1,\n",
    "             \"c3\": 2,\n",
    "             \"other\": 7\n",
    "            }\n",
    "\n",
    "        return m[pitch]\n",
    "    \n",
    "    \n",
    "    \n",
    "params = {'batch_size': 16, 'shuffle': True, 'num_workers': 0}\n",
    "\n",
    "ROOT = 'data/originals-resized/'\n",
    "\n",
    "all_ims = [file for file in os.listdir(ROOT) \\\n",
    "                          if os.path.isfile(ROOT + file) \\\n",
    "                          and file[0:4] == 'note']\n",
    "\n",
    "\n",
    "train_fns, test_fns = train_test_split(all_ims, test_size = 0.15)\n",
    "train_fns, val_fns = train_test_split(train_fns, test_size = 0.15)\n",
    "\n",
    "\n",
    "\n",
    "train_set  = DataSet(train_fns, ROOT)\n",
    "train_generator = torch.utils.data.DataLoader(train_set, **params)\n",
    "\n",
    "val_set = DataSet(val_fns, ROOT)\n",
    "val_generator = torch.utils.data.DataLoader(val_set, **params)\n",
    "\n",
    "\n",
    "test_set = DataSet(test_fns, ROOT)\n",
    "test_generator = torch.utils.data.DataLoader(test_set)"
   ]
  },
  {
   "cell_type": "markdown",
   "metadata": {},
   "source": [
    "### 1.2 Visualising a few images from the dataset"
   ]
  },
  {
   "cell_type": "code",
   "execution_count": 1010,
   "metadata": {},
   "outputs": [
    {
     "data": {
      "text/plain": [
       "2354"
      ]
     },
     "execution_count": 1010,
     "metadata": {},
     "output_type": "execute_result"
    }
   ],
   "source": [
    "train_set.__len__()"
   ]
  },
  {
   "cell_type": "code",
   "execution_count": 1011,
   "metadata": {},
   "outputs": [
    {
     "data": {
      "image/png": "[encoded data removed]",
      "text/plain": [
       "<Figure size 432x288 with 4 Axes>"
      ]
     },
     "metadata": {
      "needs_background": "light"
     },
     "output_type": "display_data"
    }
   ],
   "source": [
    "# Lets take a look at what a subset of our images look like\n",
    "idxs = [randrange(train_set.__len__()) for i in range(4)]\n",
    "\n",
    "for i, idx in enumerate(idxs):\n",
    "    plt.subplot(1, 4, i + 1)\n",
    "    plt.axis('off')\n",
    "    plt.imshow(train_set.__getitem__(idx)[0].squeeze(), cmap = 'Greys')\n",
    "    plt.subplots_adjust(wspace = 0.5)"
   ]
  },
  {
   "cell_type": "markdown",
   "metadata": {},
   "source": [
    "### 1.3 Constructing the network"
   ]
  },
  {
   "cell_type": "code",
   "execution_count": 1012,
   "metadata": {},
   "outputs": [],
   "source": [
    "class ConvNetSingle(nn.Module):\n",
    "    \n",
    "    def __init__(self):\n",
    "        super(ConvNetSingle, self).__init__()\n",
    "        \n",
    "        self.conv1 = nn.Conv2d(in_channels = 1, kernel_size = 5, out_channels = 3)\n",
    "        nn.init.xavier_normal_(self.conv1.weight)\n",
    "        self.conv2 = nn.Conv2d(in_channels = 3, kernel_size = 3, out_channels = 3)\n",
    "        nn.init.xavier_normal_(self.conv2.weight)\n",
    "        self.pool1 = nn.MaxPool2d(2)\n",
    "        self.flatten = nn.Flatten()\n",
    "        self.relu = nn.ReLU()\n",
    "        self.fc1 = nn.Linear(792, 256)\n",
    "        nn.init.xavier_normal_(self.fc1.weight)\n",
    "        self.fc2 = nn.Linear(256, 8)\n",
    "        nn.init.xavier_normal_(self.fc2.weight)\n",
    "        self.fc3 = nn.Linear(16, 8)\n",
    "        nn.init.xavier_normal_(self.fc3.weight)\n",
    "        \n",
    "        self.dropout = nn.Dropout(p=0.5)\n",
    "\n",
    "    def forward(self, x):\n",
    "        \n",
    "        x = self.conv1(x)\n",
    "        x = self.conv2(x)\n",
    "        x = self.pool1(x)\n",
    "        x = self.flatten(x)\n",
    "        x = self.fc1(x)\n",
    "        x = self.relu(x)\n",
    "        x = self.fc2(x)\n",
    "        \n",
    "        output = F.log_softmax(x, dim=1)\n",
    "        return output"
   ]
  },
  {
   "cell_type": "markdown",
   "metadata": {},
   "source": [
    "### 1.3 Training the network"
   ]
  },
  {
   "cell_type": "code",
   "execution_count": 1015,
   "metadata": {},
   "outputs": [
    {
     "data": {
      "application/vnd.jupyter.widget-view+json": {
       "model_id": "5db794e04a9e4e27bb7370d7375a047e",
       "version_major": 2,
       "version_minor": 0
      },
      "text/plain": [
       "HBox(children=(HTML(value=''), FloatProgress(value=0.0, max=10.0), HTML(value='')))"
      ]
     },
     "metadata": {},
     "output_type": "display_data"
    },
    {
     "name": "stdout",
     "output_type": "stream",
     "text": [
      "Epoch 1 / 10\n",
      "Training accuracy = 0.4588    Validation accuracy = 0.4615 \n",
      "\n",
      "Epoch 2 / 10\n",
      "Training accuracy = 0.6818    Validation accuracy = 0.5 \n",
      "\n",
      "Epoch 3 / 10\n",
      "Training accuracy = 0.7948    Validation accuracy = 0.7548 \n",
      "\n",
      "Epoch 4 / 10\n",
      "Training accuracy = 0.8832    Validation accuracy = 0.7308 \n",
      "\n",
      "Epoch 5 / 10\n",
      "Training accuracy = 0.9282    Validation accuracy = 0.7236 \n",
      "\n",
      "Epoch 6 / 10\n",
      "Training accuracy = 0.9592    Validation accuracy = 0.7933 \n",
      "\n",
      "Epoch 7 / 10\n",
      "Training accuracy = 0.9881    Validation accuracy = 0.8053 \n",
      "\n",
      "Epoch 8 / 10\n",
      "Training accuracy = 0.9885    Validation accuracy = 0.8173 \n",
      "\n",
      "Epoch 9 / 10\n",
      "Training accuracy = 0.9953    Validation accuracy = 0.8269 \n",
      "\n",
      "Epoch 10 / 10\n",
      "Training accuracy = 1.0    Validation accuracy = 0.8293 \n",
      "\n",
      "\n"
     ]
    }
   ],
   "source": [
    "model = ConvNetSingle()\n",
    "optimiser = optim.Adam(model.parameters(), lr=0.001)\n",
    "max_epochs = 10\n",
    "log_int = 1\n",
    "\n",
    "# Now for the training loop\n",
    "for epoch in tqdm(range(max_epochs)):\n",
    "    correct = 0\n",
    "    total = 0\n",
    "    correct_val = 0\n",
    "    total_val = 0\n",
    "    for local_batch, local_labels in train_generator:\n",
    "        optimiser.zero_grad()\n",
    "        pred = model(local_batch.float())\n",
    "        loss = F.nll_loss(pred, local_labels)\n",
    "        _, predicted = torch.max(pred.data, 1)\n",
    "                \n",
    "        total += local_labels.size(0)\n",
    "        correct += (predicted == local_labels).sum().item()\n",
    "        loss.backward()\n",
    "        optimiser.step()\n",
    "        \n",
    "    with torch.no_grad():\n",
    "            for local_batch, local_labels in val_generator:\n",
    "                        optimiser.zero_grad()\n",
    "                        pred = model(local_batch.float())\n",
    "                        loss = F.nll_loss(pred, local_labels)\n",
    "                        _, predicted = torch.max(pred.data, 1)\n",
    "                        optimiser.step()\n",
    "                        total_val += local_labels.size(0)\n",
    "                        correct_val += (predicted == local_labels).sum().item()\n",
    "    \n",
    "    if (epoch % log_int) == 0:\n",
    "        print(f'Epoch {epoch + 1} / {max_epochs}')\n",
    "        print(f'Training accuracy = {round(correct/total, 4)}    Validation accuracy = {round(correct_val/total_val, 4)} \\n')"
   ]
  },
  {
   "cell_type": "markdown",
   "metadata": {},
   "source": [
    "### 1.4 Testing the network"
   ]
  },
  {
   "cell_type": "code",
   "execution_count": 1018,
   "metadata": {},
   "outputs": [
    {
     "name": "stdout",
     "output_type": "stream",
     "text": [
      "Accuracy on test images: 80 %\n"
     ]
    }
   ],
   "source": [
    "# Test loop\n",
    "total = 0\n",
    "correct = 0\n",
    "with torch.no_grad():\n",
    "    model.eval()\n",
    "    for ims, labs in test_generator:\n",
    "        outputs = model(ims.float())\n",
    "        _, predicted = torch.max(outputs.data, 1)\n",
    "        total += labs.size(0)\n",
    "        correct += (predicted == labs).sum().item()\n",
    "\n",
    "print('Accuracy on test images: %d %%' % (100 * correct / total))"
   ]
  },
  {
   "cell_type": "markdown",
   "metadata": {},
   "source": [
    "## 2.  Object detection and bounding box cropping"
   ]
  },
  {
   "cell_type": "code",
   "execution_count": null,
   "metadata": {},
   "outputs": [],
   "source": []
  },
  {
   "cell_type": "markdown",
   "metadata": {},
   "source": [
    "## 3.  Putting the pieces together"
   ]
  }
 ],
 "metadata": {
  "kernelspec": {
   "display_name": "Python 3",
   "language": "python",
   "name": "python3"
  },
  "language_info": {
   "codemirror_mode": {
    "name": "ipython",
    "version": 3
   },
   "file_extension": ".py",
   "mimetype": "text/x-python",
   "name": "python",
   "nbconvert_exporter": "python",
   "pygments_lexer": "ipython3",
   "version": "3.8.5"
  }
 },
 "nbformat": 4,
 "nbformat_minor": 4
}
