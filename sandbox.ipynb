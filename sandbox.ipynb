{
 "cells": [
  {
   "cell_type": "code",
   "execution_count": 555,
   "metadata": {},
   "outputs": [],
   "source": [
    "import pandas as pd\n",
    "import imageio \n",
    "import re\n",
    "import numpy as np\n",
    "import os\n",
    "from pathlib import Path\n",
    "import tensorflow as tf\n",
    "from sklearn.utils import shuffle\n",
    "from skimage import color\n",
    "\n",
    "\n",
    "\n",
    "np.set_printoptions(threshold=np.inf)\n",
    "from matplotlib import pyplot as plt\n",
    "\n",
    "class primusSequence:\n",
    "\n",
    "    def __init__(self, folder, package):\n",
    "        self.image = imageio.imread(\"./data/\" + package + \"/\" + folder + \"/\" + folder + \".png\")\n",
    "        self.semantic = open(\"./data/\" + package + \"/\" + folder + \"/\" + folder + \".semantic\").read()\n",
    "        self.labels = re.findall(r'note\\-(.+?)\\_', self.semantic)\n",
    "        \n",
    "    def flattened_image(self):\n",
    "        im = self.image\n",
    "        return(im.flatten())\n",
    "                                    \n",
    "        \n",
    "def init_objs(dataset):\n",
    "    \n",
    "    if dataset == 'train':\n",
    "        ROOT = './data/package_aa/'\n",
    "        package = 'package_aa'\n",
    "    elif dataset == 'validate':\n",
    "        ROOT = './data/package_ab/'\n",
    "        package = 'package_ab'\n",
    "\n",
    "    folders = [directory for directory in os.listdir(ROOT) if os.path.isdir(ROOT+directory)]\n",
    "    objs = []\n",
    "    \n",
    "    for f in folders:\n",
    "        objs.append(primusSequence(f, package))\n",
    "        \n",
    "    return(objs)"
   ]
  },
  {
   "cell_type": "code",
   "execution_count": 76,
   "metadata": {},
   "outputs": [],
   "source": [
    "objs = init_objs('train')"
   ]
  },
  {
   "cell_type": "code",
   "execution_count": 146,
   "metadata": {},
   "outputs": [],
   "source": [
    "train_labels = ['a', 'b'] * 21797"
   ]
  },
  {
   "cell_type": "code",
   "execution_count": 148,
   "metadata": {},
   "outputs": [
    {
     "name": "stderr",
     "output_type": "stream",
     "text": [
      "/Users/George/opt/anaconda3/lib/python3.7/site-packages/ipykernel_launcher.py:1: VisibleDeprecationWarning: Creating an ndarray from ragged nested sequences (which is a list-or-tuple of lists-or-tuples-or ndarrays with different lengths or shapes) is deprecated. If you meant to do this, you must specify 'dtype=object' when creating the ndarray\n",
      "  \"\"\"Entry point for launching an IPython kernel.\n"
     ]
    }
   ],
   "source": [
    "train_images = np.array(train_images)"
   ]
  },
  {
   "cell_type": "code",
   "execution_count": null,
   "metadata": {},
   "outputs": [],
   "source": []
  },
  {
   "cell_type": "code",
   "execution_count": 612,
   "metadata": {},
   "outputs": [],
   "source": [
    "def map_pitch(pitch):\n",
    "    \n",
    "    m = {\"a\": 0,\n",
    "         \"h\": 1,\n",
    "         \"c1\": 2,\n",
    "         \"d1\": 3,\n",
    "         \"e1\": 4,\n",
    "         \"f1\": 5,\n",
    "         \"g1\": 6,\n",
    "         \"a1\": 0,\n",
    "         \"h1\": 1,\n",
    "         \"c2\": 2,\n",
    "         \"d2\": 3,\n",
    "         \"e2\": 4,\n",
    "         \"f2\": 5,\n",
    "         \"g2\": 6,\n",
    "         \"a2\": 0,\n",
    "         \"h2\": 1,\n",
    "         \"c3\": 2,\n",
    "         \"other\": 7}\n",
    "    \n",
    "    return(m[pitch])\n",
    "\n",
    "class ViennaNote:\n",
    "    \n",
    "    def __init__(self, fn):\n",
    "        attr = fn.split('-')\n",
    "        self.type = attr[0]\n",
    "        self.time = attr[1]\n",
    "        self.pitch = attr[2]\n",
    "        imfile = imageio.imread('./data/originals-resized/' + fn)\n",
    "        self.image = color.rgb2gray(imfile) / 255\n",
    "        \n",
    "    def resize_image(self, width, height):\n",
    "        pass\n",
    "    \n",
    "class InputData:\n",
    "    \n",
    "    ROOT = './data/originals-resized/' \n",
    "    \n",
    "    def __init__(self, path = ROOT):\n",
    "        self.files = [file for file in os.listdir(path) if os.path.isfile(path + file) and file[0:4] == 'note']\n",
    "        self.objs = [ViennaNote(f) for f in self.files]\n",
    "                \n",
    "    def training_images(self, path = ROOT):\n",
    "        images = [o.image for o in self.objs]\n",
    "        return(np.array(images))\n",
    "    \n",
    "    def training_labels(self, path = ROOT):\n",
    "        notes = [o.pitch for o in self.objs]\n",
    "        labels = [map_pitch(pitch) for pitch in notes]\n",
    "        return(np.array(labels))"
   ]
  },
  {
   "cell_type": "code",
   "execution_count": 613,
   "metadata": {},
   "outputs": [],
   "source": [
    "input_data = InputData()"
   ]
  },
  {
   "cell_type": "code",
   "execution_count": 614,
   "metadata": {},
   "outputs": [],
   "source": [
    "x = input_data.training_images()"
   ]
  },
  {
   "cell_type": "code",
   "execution_count": 442,
   "metadata": {},
   "outputs": [],
   "source": [
    "x = np.array(x)"
   ]
  },
  {
   "cell_type": "code",
   "execution_count": null,
   "metadata": {},
   "outputs": [],
   "source": []
  },
  {
   "cell_type": "code",
   "execution_count": 552,
   "metadata": {},
   "outputs": [],
   "source": [
    "import cv2"
   ]
  },
  {
   "cell_type": "code",
   "execution_count": 615,
   "metadata": {},
   "outputs": [],
   "source": [
    "train_images = input_data.training_images()\n",
    "train_labels = input_data.training_labels()"
   ]
  },
  {
   "cell_type": "code",
   "execution_count": 643,
   "metadata": {},
   "outputs": [],
   "source": [
    "model = tf.keras.Sequential([\n",
    "    tf.keras.layers.Flatten(input_shape = (50, 30)),\n",
    "    tf.keras.layers.Dense(128, activation=tf.nn.relu),\n",
    "    tf.keras.layers.Dense(8, activation=tf.nn.softmax),\n",
    "])\n",
    "\n",
    "def ctc_loss(y_true, y_pred, input_length, label_length, real_y_true_ts):\n",
    "    return tf.keras.backend.ctc_batch_cost(real_y_true_ts, y_pred, input_length, label_length)"
   ]
  },
  {
   "cell_type": "code",
   "execution_count": 644,
   "metadata": {},
   "outputs": [],
   "source": [
    "model.compile(optimizer='adam',\n",
    "              loss='sparse_categorical_crossentropy',\n",
    "              metrics=['accuracy'])"
   ]
  },
  {
   "cell_type": "code",
   "execution_count": 646,
   "metadata": {
    "scrolled": true
   },
   "outputs": [
    {
     "name": "stdout",
     "output_type": "stream",
     "text": [
      "Epoch 1/100\n",
      "92/92 [==============================] - 0s 3ms/step - loss: 0.7540 - accuracy: 0.7534 - val_loss: 0.7310 - val_accuracy: 0.7622\n",
      "Epoch 2/100\n",
      "92/92 [==============================] - 0s 3ms/step - loss: 0.7573 - accuracy: 0.7385 - val_loss: 0.8116 - val_accuracy: 0.6951\n",
      "Epoch 3/100\n",
      "92/92 [==============================] - 0s 3ms/step - loss: 0.7124 - accuracy: 0.7707 - val_loss: 0.8053 - val_accuracy: 0.7317\n",
      "Epoch 4/100\n",
      "92/92 [==============================] - 0s 4ms/step - loss: 0.7000 - accuracy: 0.7758 - val_loss: 0.8606 - val_accuracy: 0.7195\n",
      "Epoch 5/100\n",
      "92/92 [==============================] - 0s 4ms/step - loss: 0.6751 - accuracy: 0.7809 - val_loss: 0.8046 - val_accuracy: 0.7378\n",
      "Epoch 6/100\n",
      "92/92 [==============================] - 0s 4ms/step - loss: 0.6621 - accuracy: 0.7846 - val_loss: 0.7792 - val_accuracy: 0.7470\n",
      "Epoch 7/100\n",
      "92/92 [==============================] - 0s 5ms/step - loss: 0.6729 - accuracy: 0.7721 - val_loss: 0.8141 - val_accuracy: 0.7256\n",
      "Epoch 8/100\n",
      "92/92 [==============================] - 0s 5ms/step - loss: 0.6762 - accuracy: 0.7731 - val_loss: 0.8125 - val_accuracy: 0.7409\n",
      "Epoch 9/100\n",
      "92/92 [==============================] - 0s 3ms/step - loss: 0.6486 - accuracy: 0.7819 - val_loss: 0.8353 - val_accuracy: 0.7073\n",
      "Epoch 10/100\n",
      "92/92 [==============================] - 0s 3ms/step - loss: 0.6310 - accuracy: 0.7833 - val_loss: 0.7794 - val_accuracy: 0.7652\n",
      "Epoch 11/100\n",
      "92/92 [==============================] - 0s 3ms/step - loss: 0.5900 - accuracy: 0.8064 - val_loss: 0.8463 - val_accuracy: 0.7409\n",
      "Epoch 12/100\n",
      "92/92 [==============================] - 0s 4ms/step - loss: 0.5979 - accuracy: 0.8033 - val_loss: 0.8875 - val_accuracy: 0.6890\n",
      "Epoch 13/100\n",
      "92/92 [==============================] - 0s 3ms/step - loss: 0.5834 - accuracy: 0.8074 - val_loss: 0.9504 - val_accuracy: 0.6860\n",
      "Epoch 14/100\n",
      "92/92 [==============================] - 0s 3ms/step - loss: 0.5624 - accuracy: 0.8173 - val_loss: 0.7982 - val_accuracy: 0.7683\n",
      "Epoch 15/100\n",
      "92/92 [==============================] - 0s 3ms/step - loss: 0.5291 - accuracy: 0.8383 - val_loss: 0.7474 - val_accuracy: 0.7805\n",
      "Epoch 16/100\n",
      "92/92 [==============================] - 0s 3ms/step - loss: 0.5341 - accuracy: 0.8227 - val_loss: 0.8311 - val_accuracy: 0.7378\n",
      "Epoch 17/100\n",
      "92/92 [==============================] - 0s 3ms/step - loss: 0.5069 - accuracy: 0.8339 - val_loss: 0.7657 - val_accuracy: 0.7683\n",
      "Epoch 18/100\n",
      "92/92 [==============================] - 0s 3ms/step - loss: 0.5088 - accuracy: 0.8363 - val_loss: 0.8351 - val_accuracy: 0.7317\n",
      "Epoch 19/100\n",
      "92/92 [==============================] - 0s 3ms/step - loss: 0.5087 - accuracy: 0.8342 - val_loss: 0.9740 - val_accuracy: 0.7165\n",
      "Epoch 20/100\n",
      "92/92 [==============================] - 0s 3ms/step - loss: 0.4695 - accuracy: 0.8492 - val_loss: 0.7878 - val_accuracy: 0.7561\n",
      "Epoch 21/100\n",
      "92/92 [==============================] - 0s 3ms/step - loss: 0.4706 - accuracy: 0.8438 - val_loss: 0.8019 - val_accuracy: 0.7470\n",
      "Epoch 22/100\n",
      "92/92 [==============================] - 0s 3ms/step - loss: 0.4584 - accuracy: 0.8611 - val_loss: 0.7832 - val_accuracy: 0.7744\n",
      "Epoch 23/100\n",
      "92/92 [==============================] - 0s 3ms/step - loss: 0.4542 - accuracy: 0.8488 - val_loss: 0.7374 - val_accuracy: 0.7805\n",
      "Epoch 24/100\n",
      "92/92 [==============================] - 0s 3ms/step - loss: 0.4370 - accuracy: 0.8577 - val_loss: 0.8566 - val_accuracy: 0.7561\n",
      "Epoch 25/100\n",
      "92/92 [==============================] - 0s 3ms/step - loss: 0.4418 - accuracy: 0.8567 - val_loss: 0.8266 - val_accuracy: 0.7561\n",
      "Epoch 26/100\n",
      "92/92 [==============================] - 0s 3ms/step - loss: 0.4402 - accuracy: 0.8601 - val_loss: 0.7898 - val_accuracy: 0.7652\n",
      "Epoch 27/100\n",
      "92/92 [==============================] - 0s 4ms/step - loss: 0.4022 - accuracy: 0.8675 - val_loss: 0.8818 - val_accuracy: 0.7530\n",
      "Epoch 28/100\n",
      "92/92 [==============================] - 0s 3ms/step - loss: 0.3978 - accuracy: 0.8699 - val_loss: 0.8274 - val_accuracy: 0.7317\n",
      "Epoch 29/100\n",
      "92/92 [==============================] - 0s 4ms/step - loss: 0.4130 - accuracy: 0.8672 - val_loss: 0.7956 - val_accuracy: 0.7409\n",
      "Epoch 30/100\n",
      "92/92 [==============================] - 0s 3ms/step - loss: 0.3749 - accuracy: 0.8835 - val_loss: 0.8198 - val_accuracy: 0.7622\n",
      "Epoch 31/100\n",
      "92/92 [==============================] - 0s 4ms/step - loss: 0.3667 - accuracy: 0.8804 - val_loss: 0.7992 - val_accuracy: 0.7683\n",
      "Epoch 32/100\n",
      "92/92 [==============================] - 0s 3ms/step - loss: 0.3503 - accuracy: 0.8886 - val_loss: 0.9804 - val_accuracy: 0.6951\n",
      "Epoch 33/100\n",
      "92/92 [==============================] - 0s 3ms/step - loss: 0.3705 - accuracy: 0.8825 - val_loss: 0.8028 - val_accuracy: 0.7866\n",
      "Epoch 34/100\n",
      "92/92 [==============================] - 0s 3ms/step - loss: 0.3760 - accuracy: 0.8781 - val_loss: 0.8618 - val_accuracy: 0.7591\n",
      "Epoch 35/100\n",
      "92/92 [==============================] - 0s 3ms/step - loss: 0.3248 - accuracy: 0.9032 - val_loss: 0.8050 - val_accuracy: 0.7439\n",
      "Epoch 36/100\n",
      "92/92 [==============================] - 0s 3ms/step - loss: 0.3360 - accuracy: 0.8882 - val_loss: 0.8275 - val_accuracy: 0.7713\n",
      "Epoch 37/100\n",
      "92/92 [==============================] - 0s 3ms/step - loss: 0.3191 - accuracy: 0.8991 - val_loss: 0.8741 - val_accuracy: 0.7652\n",
      "Epoch 38/100\n",
      "92/92 [==============================] - 0s 3ms/step - loss: 0.3384 - accuracy: 0.8794 - val_loss: 0.8782 - val_accuracy: 0.7500\n",
      "Epoch 39/100\n",
      "92/92 [==============================] - 0s 3ms/step - loss: 0.3128 - accuracy: 0.9008 - val_loss: 0.8636 - val_accuracy: 0.7530\n",
      "Epoch 40/100\n",
      "92/92 [==============================] - 0s 3ms/step - loss: 0.3167 - accuracy: 0.8981 - val_loss: 0.8313 - val_accuracy: 0.7683\n",
      "Epoch 41/100\n",
      "92/92 [==============================] - 0s 3ms/step - loss: 0.2963 - accuracy: 0.9086 - val_loss: 0.8298 - val_accuracy: 0.7622\n",
      "Epoch 42/100\n",
      "92/92 [==============================] - 0s 4ms/step - loss: 0.3465 - accuracy: 0.8825 - val_loss: 0.9058 - val_accuracy: 0.7226\n",
      "Epoch 43/100\n",
      "92/92 [==============================] - 0s 3ms/step - loss: 0.2973 - accuracy: 0.9032 - val_loss: 0.8408 - val_accuracy: 0.7591\n",
      "Epoch 44/100\n",
      "92/92 [==============================] - 0s 4ms/step - loss: 0.2675 - accuracy: 0.9164 - val_loss: 0.9358 - val_accuracy: 0.7378\n",
      "Epoch 45/100\n",
      "92/92 [==============================] - 0s 3ms/step - loss: 0.2760 - accuracy: 0.9076 - val_loss: 0.8436 - val_accuracy: 0.7561\n",
      "Epoch 46/100\n",
      "92/92 [==============================] - 0s 3ms/step - loss: 0.2714 - accuracy: 0.9178 - val_loss: 0.8887 - val_accuracy: 0.7287\n",
      "Epoch 47/100\n",
      "92/92 [==============================] - 0s 3ms/step - loss: 0.2272 - accuracy: 0.9334 - val_loss: 0.9616 - val_accuracy: 0.7409\n",
      "Epoch 48/100\n",
      "92/92 [==============================] - 0s 4ms/step - loss: 0.2343 - accuracy: 0.9293 - val_loss: 0.8963 - val_accuracy: 0.7530\n",
      "Epoch 49/100\n",
      "92/92 [==============================] - 0s 3ms/step - loss: 0.2207 - accuracy: 0.9372 - val_loss: 0.8874 - val_accuracy: 0.7683\n",
      "Epoch 50/100\n",
      "92/92 [==============================] - 0s 3ms/step - loss: 0.2350 - accuracy: 0.9273 - val_loss: 0.9046 - val_accuracy: 0.7530\n",
      "Epoch 51/100\n",
      "92/92 [==============================] - 0s 3ms/step - loss: 0.2520 - accuracy: 0.9178 - val_loss: 0.9506 - val_accuracy: 0.7195\n",
      "Epoch 52/100\n",
      "92/92 [==============================] - 0s 3ms/step - loss: 0.2153 - accuracy: 0.9310 - val_loss: 0.8590 - val_accuracy: 0.7317\n",
      "Epoch 53/100\n",
      "92/92 [==============================] - 0s 3ms/step - loss: 0.2324 - accuracy: 0.9256 - val_loss: 0.9301 - val_accuracy: 0.7591\n",
      "Epoch 54/100\n",
      "92/92 [==============================] - 0s 3ms/step - loss: 0.2175 - accuracy: 0.9293 - val_loss: 1.0649 - val_accuracy: 0.7317\n",
      "Epoch 55/100\n",
      "92/92 [==============================] - 0s 3ms/step - loss: 0.2290 - accuracy: 0.9280 - val_loss: 1.0509 - val_accuracy: 0.7500\n",
      "Epoch 56/100\n",
      "92/92 [==============================] - 0s 3ms/step - loss: 0.2142 - accuracy: 0.9368 - val_loss: 0.9550 - val_accuracy: 0.7256\n",
      "Epoch 57/100\n",
      "92/92 [==============================] - 0s 3ms/step - loss: 0.1946 - accuracy: 0.9423 - val_loss: 1.0236 - val_accuracy: 0.7409\n",
      "Epoch 58/100\n",
      "92/92 [==============================] - 0s 3ms/step - loss: 0.1817 - accuracy: 0.9487 - val_loss: 0.9281 - val_accuracy: 0.7561\n"
     ]
    },
    {
     "name": "stdout",
     "output_type": "stream",
     "text": [
      "Epoch 59/100\n",
      "92/92 [==============================] - 0s 3ms/step - loss: 0.2091 - accuracy: 0.9310 - val_loss: 1.0503 - val_accuracy: 0.7409\n",
      "Epoch 60/100\n",
      "92/92 [==============================] - 0s 3ms/step - loss: 0.1719 - accuracy: 0.9531 - val_loss: 0.9134 - val_accuracy: 0.7683\n",
      "Epoch 61/100\n",
      "92/92 [==============================] - 0s 3ms/step - loss: 0.1984 - accuracy: 0.9375 - val_loss: 0.9641 - val_accuracy: 0.7378\n",
      "Epoch 62/100\n",
      "92/92 [==============================] - 0s 3ms/step - loss: 0.1884 - accuracy: 0.9440 - val_loss: 0.9920 - val_accuracy: 0.7500\n",
      "Epoch 63/100\n",
      "92/92 [==============================] - 0s 3ms/step - loss: 0.1456 - accuracy: 0.9626 - val_loss: 0.9520 - val_accuracy: 0.7774\n",
      "Epoch 64/100\n",
      "92/92 [==============================] - 0s 3ms/step - loss: 0.2028 - accuracy: 0.9280 - val_loss: 1.1522 - val_accuracy: 0.7073\n",
      "Epoch 65/100\n",
      "92/92 [==============================] - 0s 3ms/step - loss: 0.1835 - accuracy: 0.9399 - val_loss: 1.1336 - val_accuracy: 0.7439\n",
      "Epoch 66/100\n",
      "92/92 [==============================] - 0s 3ms/step - loss: 0.1475 - accuracy: 0.9640 - val_loss: 1.0223 - val_accuracy: 0.7652\n",
      "Epoch 67/100\n",
      "92/92 [==============================] - 0s 4ms/step - loss: 0.1342 - accuracy: 0.9674 - val_loss: 1.0181 - val_accuracy: 0.7591\n",
      "Epoch 68/100\n",
      "92/92 [==============================] - 0s 3ms/step - loss: 0.1403 - accuracy: 0.9647 - val_loss: 1.2960 - val_accuracy: 0.7073\n",
      "Epoch 69/100\n",
      "92/92 [==============================] - 0s 4ms/step - loss: 0.1604 - accuracy: 0.9494 - val_loss: 1.0398 - val_accuracy: 0.7287\n",
      "Epoch 70/100\n",
      "92/92 [==============================] - 0s 4ms/step - loss: 0.2361 - accuracy: 0.9158 - val_loss: 1.1945 - val_accuracy: 0.7104\n",
      "Epoch 71/100\n",
      "92/92 [==============================] - 0s 3ms/step - loss: 0.1654 - accuracy: 0.9480 - val_loss: 1.0178 - val_accuracy: 0.7287\n",
      "Epoch 72/100\n",
      "92/92 [==============================] - 0s 3ms/step - loss: 0.1179 - accuracy: 0.9698 - val_loss: 1.0906 - val_accuracy: 0.7500\n",
      "Epoch 73/100\n",
      "92/92 [==============================] - 0s 3ms/step - loss: 0.1152 - accuracy: 0.9718 - val_loss: 1.1164 - val_accuracy: 0.7409\n",
      "Epoch 74/100\n",
      "92/92 [==============================] - 0s 3ms/step - loss: 0.1121 - accuracy: 0.9674 - val_loss: 1.0333 - val_accuracy: 0.7530\n",
      "Epoch 75/100\n",
      "92/92 [==============================] - 0s 3ms/step - loss: 0.1115 - accuracy: 0.9725 - val_loss: 1.0594 - val_accuracy: 0.7622\n",
      "Epoch 76/100\n",
      "92/92 [==============================] - 0s 3ms/step - loss: 0.1384 - accuracy: 0.9637 - val_loss: 1.1015 - val_accuracy: 0.7409\n",
      "Epoch 77/100\n",
      "92/92 [==============================] - 0s 4ms/step - loss: 0.1066 - accuracy: 0.9752 - val_loss: 1.1287 - val_accuracy: 0.7287\n",
      "Epoch 78/100\n",
      "92/92 [==============================] - 0s 4ms/step - loss: 0.1241 - accuracy: 0.9633 - val_loss: 1.1089 - val_accuracy: 0.7439\n",
      "Epoch 79/100\n",
      "92/92 [==============================] - 0s 3ms/step - loss: 0.0991 - accuracy: 0.9776 - val_loss: 1.1096 - val_accuracy: 0.7348\n",
      "Epoch 80/100\n",
      "92/92 [==============================] - 0s 3ms/step - loss: 0.1418 - accuracy: 0.9572 - val_loss: 1.2004 - val_accuracy: 0.7348\n",
      "Epoch 81/100\n",
      "92/92 [==============================] - 0s 4ms/step - loss: 0.1351 - accuracy: 0.9575 - val_loss: 1.2806 - val_accuracy: 0.7256\n",
      "Epoch 82/100\n",
      "92/92 [==============================] - 0s 4ms/step - loss: 0.0946 - accuracy: 0.9759 - val_loss: 1.1748 - val_accuracy: 0.7470\n",
      "Epoch 83/100\n",
      "92/92 [==============================] - 0s 4ms/step - loss: 0.0892 - accuracy: 0.9769 - val_loss: 1.1836 - val_accuracy: 0.7470\n",
      "Epoch 84/100\n",
      "92/92 [==============================] - 0s 3ms/step - loss: 0.1553 - accuracy: 0.9494 - val_loss: 1.1267 - val_accuracy: 0.7378\n",
      "Epoch 85/100\n",
      "92/92 [==============================] - 0s 3ms/step - loss: 0.1017 - accuracy: 0.9701 - val_loss: 1.1991 - val_accuracy: 0.7226\n",
      "Epoch 86/100\n",
      "92/92 [==============================] - 0s 3ms/step - loss: 0.0888 - accuracy: 0.9793 - val_loss: 1.1747 - val_accuracy: 0.7470\n",
      "Epoch 87/100\n",
      "92/92 [==============================] - 0s 3ms/step - loss: 0.0997 - accuracy: 0.9711 - val_loss: 1.2363 - val_accuracy: 0.7073\n",
      "Epoch 88/100\n",
      "92/92 [==============================] - 0s 3ms/step - loss: 0.1151 - accuracy: 0.9633 - val_loss: 1.2098 - val_accuracy: 0.7561\n",
      "Epoch 89/100\n",
      "92/92 [==============================] - 0s 3ms/step - loss: 0.0905 - accuracy: 0.9779 - val_loss: 1.2723 - val_accuracy: 0.7470\n",
      "Epoch 90/100\n",
      "92/92 [==============================] - 0s 4ms/step - loss: 0.0865 - accuracy: 0.9789 - val_loss: 1.2847 - val_accuracy: 0.7287\n",
      "Epoch 91/100\n",
      "92/92 [==============================] - 0s 4ms/step - loss: 0.0980 - accuracy: 0.9721 - val_loss: 1.2564 - val_accuracy: 0.7104\n",
      "Epoch 92/100\n",
      "92/92 [==============================] - 0s 3ms/step - loss: 0.0913 - accuracy: 0.9749 - val_loss: 1.2377 - val_accuracy: 0.7378\n",
      "Epoch 93/100\n",
      "92/92 [==============================] - 0s 3ms/step - loss: 0.0567 - accuracy: 0.9898 - val_loss: 1.2027 - val_accuracy: 0.7500\n",
      "Epoch 94/100\n",
      "92/92 [==============================] - 0s 3ms/step - loss: 0.0572 - accuracy: 0.9901 - val_loss: 1.2686 - val_accuracy: 0.7287\n",
      "Epoch 95/100\n",
      "92/92 [==============================] - 0s 3ms/step - loss: 0.0647 - accuracy: 0.9857 - val_loss: 1.2913 - val_accuracy: 0.7561\n",
      "Epoch 96/100\n",
      "92/92 [==============================] - 0s 3ms/step - loss: 0.0909 - accuracy: 0.9732 - val_loss: 1.3821 - val_accuracy: 0.7195\n",
      "Epoch 97/100\n",
      "92/92 [==============================] - 0s 3ms/step - loss: 0.1196 - accuracy: 0.9613 - val_loss: 1.2607 - val_accuracy: 0.7378\n",
      "Epoch 98/100\n",
      "92/92 [==============================] - 0s 3ms/step - loss: 0.0472 - accuracy: 0.9939 - val_loss: 1.3329 - val_accuracy: 0.7317\n",
      "Epoch 99/100\n",
      "92/92 [==============================] - 0s 3ms/step - loss: 0.0562 - accuracy: 0.9908 - val_loss: 1.4669 - val_accuracy: 0.7378\n",
      "Epoch 100/100\n",
      "92/92 [==============================] - 0s 3ms/step - loss: 0.1033 - accuracy: 0.9681 - val_loss: 1.4415 - val_accuracy: 0.7134\n"
     ]
    },
    {
     "data": {
      "text/plain": [
       "<tensorflow.python.keras.callbacks.History at 0x1cc2202ed0>"
      ]
     },
     "execution_count": 646,
     "metadata": {},
     "output_type": "execute_result"
    }
   ],
   "source": [
    "train_images, train_labels = shuffle(train_images, train_labels)\n",
    "\n",
    "model.fit(train_images, \n",
    "          train_labels,\n",
    "          validation_split=0.1,\n",
    "          epochs=100)"
   ]
  },
  {
   "cell_type": "code",
   "execution_count": null,
   "metadata": {},
   "outputs": [],
   "source": [
    "model.summary()"
   ]
  },
  {
   "cell_type": "code",
   "execution_count": 320,
   "metadata": {},
   "outputs": [],
   "source": [
    "shuff"
   ]
  },
  {
   "cell_type": "code",
   "execution_count": 597,
   "metadata": {},
   "outputs": [
    {
     "data": {
      "text/plain": [
       "(3272,)"
      ]
     },
     "execution_count": 597,
     "metadata": {},
     "output_type": "execute_result"
    }
   ],
   "source": [
    "train_labels.shape"
   ]
  },
  {
   "cell_type": "code",
   "execution_count": null,
   "metadata": {},
   "outputs": [],
   "source": []
  },
  {
   "cell_type": "code",
   "execution_count": null,
   "metadata": {},
   "outputs": [],
   "source": []
  },
  {
   "cell_type": "code",
   "execution_count": null,
   "metadata": {},
   "outputs": [],
   "source": []
  }
 ],
 "metadata": {
  "kernelspec": {
   "display_name": "Python 3",
   "language": "python",
   "name": "python3"
  },
  "language_info": {
   "codemirror_mode": {
    "name": "ipython",
    "version": 3
   },
   "file_extension": ".py",
   "mimetype": "text/x-python",
   "name": "python",
   "nbconvert_exporter": "python",
   "pygments_lexer": "ipython3",
   "version": "3.7.6"
  }
 },
 "nbformat": 4,
 "nbformat_minor": 4
}
