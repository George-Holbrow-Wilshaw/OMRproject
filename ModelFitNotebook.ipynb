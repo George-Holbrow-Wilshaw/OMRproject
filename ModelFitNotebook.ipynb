{
 "cells": [
  {
   "cell_type": "markdown",
   "metadata": {},
   "source": [
    "# Optical Music Recognition - Vienna Dataset"
   ]
  },
  {
   "cell_type": "code",
   "execution_count": 2,
   "metadata": {},
   "outputs": [],
   "source": [
    "# Import dependencies\n",
    "\n",
    "import pandas as pd\n",
    "import imageio \n",
    "import re\n",
    "import numpy as np\n",
    "import os\n",
    "from pathlib import Path\n",
    "import tensorflow as tf\n",
    "from sklearn.utils import shuffle\n",
    "from skimage import color\n",
    "from matplotlib import pyplot as plt"
   ]
  },
  {
   "cell_type": "code",
   "execution_count": 27,
   "metadata": {},
   "outputs": [],
   "source": [
    "# Label mapping\n",
    "\n",
    "def map_pitch(pitch):\n",
    "\n",
    "    m = {\"a\": 0,\n",
    "         \"h\": 1,\n",
    "         \"c1\": 2,\n",
    "         \"d1\": 3,\n",
    "         \"e1\": 4,\n",
    "         \"f1\": 5,\n",
    "         \"g1\": 6,\n",
    "         \"a1\": 0,\n",
    "         \"h1\": 1,\n",
    "         \"c2\": 2,\n",
    "         \"d2\": 3,\n",
    "         \"e2\": 4,\n",
    "         \"f2\": 5,\n",
    "         \"g2\": 6,\n",
    "         \"a2\": 0,\n",
    "         \"h2\": 1,\n",
    "         \"c3\": 2,\n",
    "         \"other\": 7}\n",
    "    \n",
    "    return(m[pitch])\n",
    "\n",
    "# Defining data classes\n",
    "\n",
    "class ViennaNote:\n",
    "    \n",
    "    def __init__(self, fn, typ):\n",
    "        attr = fn.split('-')\n",
    "        \n",
    "        if typ == 'test':\n",
    "            ROOT = './data/originals-test/'\n",
    "        elif typ == 'train':\n",
    "            ROOT = './data/transformations-resized/'\n",
    "        else:\n",
    "            sys.exit()\n",
    "            \n",
    "        self.type = attr[0]\n",
    "        self.time = attr[1]\n",
    "        self.pitch = attr[2]\n",
    "        imfile = imageio.imread(ROOT + fn)\n",
    "        self.image = color.rgb2gray(imfile) / 255\n",
    "        \n",
    "    def resize_image(self, width, height):\n",
    "        pass\n",
    "    \n",
    "# TODO: Combine test and input classes\n",
    "\n",
    "class InputData:\n",
    "    \n",
    "    ROOT = './data/transformations-resized/' \n",
    "    \n",
    "    def __init__(self, path = ROOT):\n",
    "        self.files = [file for file in os.listdir(path) if os.path.isfile(path + file) and file[0:4] == 'note']\n",
    "        self.objs = [ViennaNote(f, 'train') for f in self.files]\n",
    "                \n",
    "    def training_images(self, path = ROOT):\n",
    "        images = [o.image for o in self.objs]\n",
    "        return(np.array(images))\n",
    "    \n",
    "    def training_labels(self, path = ROOT):\n",
    "        notes = [o.pitch for o in self.objs]\n",
    "        labels = [map_pitch(pitch) for pitch in notes]\n",
    "        return(np.array(labels))\n",
    "    \n",
    "    \n",
    "class TestData:\n",
    "    \n",
    "    ROOT = './data/originals-test/' \n",
    "    \n",
    "    def __init__(self, path = ROOT):\n",
    "        self.files = [file for file in os.listdir(path) if os.path.isfile(path + file) and file[0:4] == 'note']\n",
    "        self.objs = [ViennaNote(f, 'test') for f in self.files]\n",
    "                \n",
    "    def training_images(self, path = ROOT):\n",
    "        images = [o.image for o in self.objs]\n",
    "        return(np.array(images))\n",
    "    \n",
    "    def training_labels(self, path = ROOT):\n",
    "        notes = [o.pitch for o in self.objs]\n",
    "        labels = [map_pitch(pitch) for pitch in notes]\n",
    "        return(np.array(labels))"
   ]
  },
  {
   "cell_type": "code",
   "execution_count": 17,
   "metadata": {},
   "outputs": [],
   "source": [
    "# Instantiating objects\n",
    "input_data = InputData()\n",
    "train_images = input_data.training_images()\n",
    "train_labels = input_data.training_labels()"
   ]
  },
  {
   "cell_type": "code",
   "execution_count": 21,
   "metadata": {},
   "outputs": [
    {
     "data": {
      "image/png": "[encoded data removed]",
      "text/plain": [
       "<Figure size 432x288 with 4 Axes>"
      ]
     },
     "metadata": {
      "needs_background": "light"
     },
     "output_type": "display_data"
    }
   ],
   "source": [
    "# Lets take a look at what a subset of our images look like\n",
    "idxs = [120, 240, 360, 720]\n",
    "\n",
    "for i in range(len(idxs)):\n",
    "    plt.subplot(1, 4, i + 1)\n",
    "    plt.axis('off')\n",
    "    plt.imshow(train_images[i], cmap = 'Greys')\n",
    "    plt.subplots_adjust(wspace = 0.5)"
   ]
  },
  {
   "cell_type": "code",
   "execution_count": 22,
   "metadata": {},
   "outputs": [],
   "source": [
    "# I am going to use Convolutional Neural Networks which require images with 3 dims\n",
    "# Each of my images only has 2 dims therefore I need to add a dim \n",
    "train_images = train_images.reshape(len(train_images), 50, 30, 1)"
   ]
  },
  {
   "cell_type": "code",
   "execution_count": 23,
   "metadata": {},
   "outputs": [],
   "source": [
    "# Now I define the sequential keras NN and compile it\n",
    "model = tf.keras.Sequential([\n",
    "    tf.keras.layers.Conv2D(3, 5, input_shape=(50, 30, 1)),\n",
    "    tf.keras.layers.MaxPooling2D(pool_size=2),\n",
    "    tf.keras.layers.Flatten(input_shape = (50, 30, 1)),\n",
    "    tf.keras.layers.Dense(800, activation=tf.nn.relu),\n",
    "    tf.keras.layers.Dense(160, activation=tf.nn.softmax),\n",
    "])\n",
    "\n",
    "model.compile(optimizer='adam',\n",
    "              loss='sparse_categorical_crossentropy',\n",
    "              metrics=['accuracy'])"
   ]
  },
  {
   "cell_type": "code",
   "execution_count": 24,
   "metadata": {},
   "outputs": [],
   "source": [
    "# Now we shuffle (keras shufles automatically but it takes the validation set before it does this)\n",
    "train_images, train_labels = shuffle(train_images, train_labels)"
   ]
  },
  {
   "cell_type": "code",
   "execution_count": 25,
   "metadata": {},
   "outputs": [
    {
     "name": "stdout",
     "output_type": "stream",
     "text": [
      "Epoch 1/5\n",
      "859/859 [==============================] - 22s 25ms/step - loss: 1.2562 - accuracy: 0.5499 - val_loss: 0.2690 - val_accuracy: 0.9272\n",
      "Epoch 2/5\n",
      "859/859 [==============================] - 23s 27ms/step - loss: 0.1551 - accuracy: 0.9584 - val_loss: 0.0664 - val_accuracy: 0.9806\n",
      "Epoch 3/5\n",
      "859/859 [==============================] - 23s 26ms/step - loss: 0.0295 - accuracy: 0.9941 - val_loss: 0.0429 - val_accuracy: 0.9882\n",
      "Epoch 4/5\n",
      "859/859 [==============================] - 24s 29ms/step - loss: 0.0170 - accuracy: 0.9962 - val_loss: 0.0817 - val_accuracy: 0.9751\n",
      "Epoch 5/5\n",
      "859/859 [==============================] - 24s 28ms/step - loss: 0.0201 - accuracy: 0.9939 - val_loss: 0.0247 - val_accuracy: 0.9930\n"
     ]
    },
    {
     "data": {
      "text/plain": [
       "<tensorflow.python.keras.callbacks.History at 0x1a559882d0>"
      ]
     },
     "execution_count": 25,
     "metadata": {},
     "output_type": "execute_result"
    }
   ],
   "source": [
    "# And finally, we fit the model to our data\n",
    "model.fit(train_images, \n",
    "          train_labels,\n",
    "          validation_split=0.3,\n",
    "          epochs=5)"
   ]
  },
  {
   "cell_type": "code",
   "execution_count": 59,
   "metadata": {},
   "outputs": [
    {
     "name": "stdout",
     "output_type": "stream",
     "text": [
      "Actual:  ['c', 'e', 'a', 'e', 'a', 'a', 'c', 'e', 'd', 'c', 'd', 'a', 'c', 'a', 'a', 'a']\n",
      "Predictions:  ['c', 'e', 'a', 'e', 'a', 'a', 'c', 'e', 'd', 'c', 'd', 'a', 'c', 'a', 'a', 'a']\n"
     ]
    }
   ],
   "source": [
    "# Lets test our model on a few test images (out of sample)\n",
    "\n",
    "test_data = TestData().training_images().reshape(16, 50, 30, 1)\n",
    "labs = TestData().training_labels()\n",
    "CATEGORIES = [\"a\", \"b\", \"c\", \"d\", \"e\", \"f\", \"g\"]\n",
    "\n",
    "print('Actual: ', [CATEGORIES[i] for i in labs.tolist()])\n",
    "print('Predictions: ', [CATEGORIES[i] for i in np.argmax(model.predict(test_data), axis = 1)])"
   ]
  },
  {
   "cell_type": "markdown",
   "metadata": {},
   "source": [
    "### Spot on!"
   ]
  }
 ],
 "metadata": {
  "kernelspec": {
   "display_name": "Python 3",
   "language": "python",
   "name": "python3"
  },
  "language_info": {
   "codemirror_mode": {
    "name": "ipython",
    "version": 3
   },
   "file_extension": ".py",
   "mimetype": "text/x-python",
   "name": "python",
   "nbconvert_exporter": "python",
   "pygments_lexer": "ipython3",
   "version": "3.7.6"
  }
 },
 "nbformat": 4,
 "nbformat_minor": 4
}
