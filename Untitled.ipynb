{
 "cells": [
  {
   "cell_type": "code",
   "execution_count": 12,
   "metadata": {},
   "outputs": [],
   "source": [
    "import pandas as pd\n",
    "import imageio \n",
    "import re\n",
    "import numpy as np\n",
    "np.set_printoptions(threshold=np.inf)\n",
    "from matplotlib import pyplot as plt\n",
    "\n",
    "class primusSequence:\n",
    "\n",
    "    def __init__(self, folder):\n",
    "        self.image = imageio.imread(\"./data/package_aa/\" + folder + \"/\" + folder + \".png\")\n",
    "        self.semantic = open(\"./data/package_aa/\" + folder + \"/\" + folder + \".semantic\").read()\n",
    "        self.labels = re.findall(r'note\\-(.+?)\\_', self.semantic)"
   ]
  },
  {
   "cell_type": "code",
   "execution_count": 27,
   "metadata": {},
   "outputs": [
    {
     "data": {
      "text/plain": [
       "<__main__.primusSequence at 0x11631c250>"
      ]
     },
     "execution_count": 27,
     "metadata": {},
     "output_type": "execute_result"
    }
   ],
   "source": [
    "primusSequence('000051650-1_1_1')"
   ]
  },
  {
   "cell_type": "code",
   "execution_count": null,
   "metadata": {},
   "outputs": [],
   "source": []
  }
 ],
 "metadata": {
  "kernelspec": {
   "display_name": "Python 3",
   "language": "python",
   "name": "python3"
  },
  "language_info": {
   "codemirror_mode": {
    "name": "ipython",
    "version": 3
   },
   "file_extension": ".py",
   "mimetype": "text/x-python",
   "name": "python",
   "nbconvert_exporter": "python",
   "pygments_lexer": "ipython3",
   "version": "3.7.6"
  }
 },
 "nbformat": 4,
 "nbformat_minor": 4
}
